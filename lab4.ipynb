{
 "cells": [
  {
   "cell_type": "code",
   "execution_count": 11,
   "id": "3f27adea",
   "metadata": {
    "scrolled": true
   },
   "outputs": [
    {
     "name": "stdout",
     "output_type": "stream",
     "text": [
      "(395, 33)\n",
      "Index(['school', 'sex', 'age', 'address', 'famsize', 'Pstatus', 'Medu', 'Fedu',\n",
      "       'Mjob', 'Fjob', 'reason', 'guardian', 'traveltime', 'studytime',\n",
      "       'failures', 'schoolsup', 'famsup', 'paid', 'activities', 'nursery',\n",
      "       'higher', 'internet', 'romantic', 'famrel', 'freetime', 'goout', 'Dalc',\n",
      "       'Walc', 'health', 'absences', 'G1', 'G2', 'G3'],\n",
      "      dtype='object')\n"
     ]
    }
   ],
   "source": [
    "import pandas as pd\n",
    "import numpy as np\n",
    "import matplotlib.pyplot as plt\n",
    "import os\n",
    "import re\n",
    "import string\n",
    "from sklearn.model_selection import train_test_split\n",
    "from sklearn.preprocessing import StandardScaler, LabelEncoder\n",
    "import tensorflow as tf\n",
    "from tensorflow import keras\n",
    "from keras.models import Sequential\n",
    "from keras.layers import Embedding, Dense, Dropout, GlobalMaxPooling1D, MaxPool2D, SimpleRNN, Flatten, BatchNormalization,Activation, Conv2D\n",
    "from keras.preprocessing.text import Tokenizer\n",
    "from keras.preprocessing.sequence import pad_sequences\n",
    "from keras.preprocessing.image import ImageDataGenerator, load_img, img_to_array\n",
    "from sklearn.metrics import classification_report, confusion_matrix\n",
    "\n",
    "\n",
    "df = pd.read_csv('student-mat.csv')\n",
    "print(df.shape)\n",
    "print(df.columns)"
   ]
  },
  {
   "cell_type": "code",
   "execution_count": 57,
   "id": "f27bf617",
   "metadata": {},
   "outputs": [
    {
     "data": {
      "text/html": [
       "<div>\n",
       "<style scoped>\n",
       "    .dataframe tbody tr th:only-of-type {\n",
       "        vertical-align: middle;\n",
       "    }\n",
       "\n",
       "    .dataframe tbody tr th {\n",
       "        vertical-align: top;\n",
       "    }\n",
       "\n",
       "    .dataframe thead th {\n",
       "        text-align: right;\n",
       "    }\n",
       "</style>\n",
       "<table border=\"1\" class=\"dataframe\">\n",
       "  <thead>\n",
       "    <tr style=\"text-align: right;\">\n",
       "      <th></th>\n",
       "      <th>school</th>\n",
       "      <th>sex</th>\n",
       "      <th>age</th>\n",
       "      <th>address</th>\n",
       "      <th>traveltime</th>\n",
       "      <th>studytime</th>\n",
       "      <th>failures</th>\n",
       "      <th>schoolsup</th>\n",
       "      <th>famsup</th>\n",
       "      <th>paid</th>\n",
       "      <th>activities</th>\n",
       "      <th>famrel</th>\n",
       "      <th>freetime</th>\n",
       "      <th>goout</th>\n",
       "    </tr>\n",
       "  </thead>\n",
       "  <tbody>\n",
       "    <tr>\n",
       "      <th>0</th>\n",
       "      <td>0</td>\n",
       "      <td>0</td>\n",
       "      <td>18</td>\n",
       "      <td>1</td>\n",
       "      <td>2</td>\n",
       "      <td>2</td>\n",
       "      <td>0</td>\n",
       "      <td>1</td>\n",
       "      <td>0</td>\n",
       "      <td>0</td>\n",
       "      <td>0</td>\n",
       "      <td>4</td>\n",
       "      <td>3</td>\n",
       "      <td>4</td>\n",
       "    </tr>\n",
       "    <tr>\n",
       "      <th>1</th>\n",
       "      <td>0</td>\n",
       "      <td>0</td>\n",
       "      <td>17</td>\n",
       "      <td>1</td>\n",
       "      <td>1</td>\n",
       "      <td>2</td>\n",
       "      <td>0</td>\n",
       "      <td>0</td>\n",
       "      <td>1</td>\n",
       "      <td>0</td>\n",
       "      <td>0</td>\n",
       "      <td>5</td>\n",
       "      <td>3</td>\n",
       "      <td>3</td>\n",
       "    </tr>\n",
       "    <tr>\n",
       "      <th>2</th>\n",
       "      <td>0</td>\n",
       "      <td>0</td>\n",
       "      <td>15</td>\n",
       "      <td>1</td>\n",
       "      <td>1</td>\n",
       "      <td>2</td>\n",
       "      <td>3</td>\n",
       "      <td>1</td>\n",
       "      <td>0</td>\n",
       "      <td>1</td>\n",
       "      <td>0</td>\n",
       "      <td>4</td>\n",
       "      <td>3</td>\n",
       "      <td>2</td>\n",
       "    </tr>\n",
       "    <tr>\n",
       "      <th>3</th>\n",
       "      <td>0</td>\n",
       "      <td>0</td>\n",
       "      <td>15</td>\n",
       "      <td>1</td>\n",
       "      <td>1</td>\n",
       "      <td>3</td>\n",
       "      <td>0</td>\n",
       "      <td>0</td>\n",
       "      <td>1</td>\n",
       "      <td>1</td>\n",
       "      <td>1</td>\n",
       "      <td>3</td>\n",
       "      <td>2</td>\n",
       "      <td>2</td>\n",
       "    </tr>\n",
       "    <tr>\n",
       "      <th>4</th>\n",
       "      <td>0</td>\n",
       "      <td>0</td>\n",
       "      <td>16</td>\n",
       "      <td>1</td>\n",
       "      <td>1</td>\n",
       "      <td>2</td>\n",
       "      <td>0</td>\n",
       "      <td>0</td>\n",
       "      <td>1</td>\n",
       "      <td>1</td>\n",
       "      <td>0</td>\n",
       "      <td>4</td>\n",
       "      <td>3</td>\n",
       "      <td>2</td>\n",
       "    </tr>\n",
       "  </tbody>\n",
       "</table>\n",
       "</div>"
      ],
      "text/plain": [
       "   school  sex  age  address  traveltime  studytime  failures  schoolsup  \\\n",
       "0       0    0   18        1           2          2         0          1   \n",
       "1       0    0   17        1           1          2         0          0   \n",
       "2       0    0   15        1           1          2         3          1   \n",
       "3       0    0   15        1           1          3         0          0   \n",
       "4       0    0   16        1           1          2         0          0   \n",
       "\n",
       "   famsup  paid  activities  famrel  freetime  goout  \n",
       "0       0     0           0       4         3      4  \n",
       "1       1     0           0       5         3      3  \n",
       "2       0     1           0       4         3      2  \n",
       "3       1     1           1       3         2      2  \n",
       "4       1     1           0       4         3      2  "
      ]
     },
     "execution_count": 57,
     "metadata": {},
     "output_type": "execute_result"
    }
   ],
   "source": [
    "df = df.drop(['famsize', 'Pstatus', 'Mjob', 'Fjob', 'reason', 'guardian',\n",
    "             'nursery', 'higher', 'internet', 'romantic', 'Medu', 'Fedu',\n",
    "              'absences', 'health', 'Walc', 'Dalc', 'G1', 'G2', 'G3'], axis = 1)\n",
    "df['sex'] = LabelEncoder().fit_transform(df['sex'])\n",
    "df['school'] = LabelEncoder().fit_transform(df['school'])\n",
    "df['address'] = LabelEncoder().fit_transform(df['address'])\n",
    "df['schoolsup'] = LabelEncoder().fit_transform(df['schoolsup'])\n",
    "df['famsup'] = LabelEncoder().fit_transform(df['famsup'])\n",
    "df['paid'] = LabelEncoder().fit_transform(df['paid'])\n",
    "df['activities'] = LabelEncoder().fit_transform(df['activities'])\n",
    "df.head()"
   ]
  },
  {
   "cell_type": "code",
   "execution_count": 58,
   "id": "cde1545f",
   "metadata": {},
   "outputs": [
    {
     "data": {
      "text/html": [
       "<div>\n",
       "<style scoped>\n",
       "    .dataframe tbody tr th:only-of-type {\n",
       "        vertical-align: middle;\n",
       "    }\n",
       "\n",
       "    .dataframe tbody tr th {\n",
       "        vertical-align: top;\n",
       "    }\n",
       "\n",
       "    .dataframe thead th {\n",
       "        text-align: right;\n",
       "    }\n",
       "</style>\n",
       "<table border=\"1\" class=\"dataframe\">\n",
       "  <thead>\n",
       "    <tr style=\"text-align: right;\">\n",
       "      <th></th>\n",
       "      <th>school</th>\n",
       "      <th>sex</th>\n",
       "      <th>age</th>\n",
       "      <th>address</th>\n",
       "      <th>traveltime</th>\n",
       "      <th>studytime</th>\n",
       "      <th>failures</th>\n",
       "      <th>schoolsup</th>\n",
       "      <th>famsup</th>\n",
       "      <th>paid</th>\n",
       "      <th>activities</th>\n",
       "      <th>famrel</th>\n",
       "      <th>freetime</th>\n",
       "    </tr>\n",
       "  </thead>\n",
       "  <tbody>\n",
       "    <tr>\n",
       "      <th>0</th>\n",
       "      <td>-0.36305</td>\n",
       "      <td>1.023046</td>\n",
       "      <td>0.535392</td>\n",
       "      <td>0.792251</td>\n",
       "      <td>-0.042286</td>\n",
       "      <td>-0.449944</td>\n",
       "      <td>2.597133</td>\n",
       "      <td>-1.257656</td>\n",
       "      <td>-0.919671</td>\n",
       "      <td>-1.017881</td>\n",
       "      <td>0.062194</td>\n",
       "      <td>-0.236010</td>\n",
       "      <td>0.801479</td>\n",
       "    </tr>\n",
       "    <tr>\n",
       "      <th>1</th>\n",
       "      <td>-0.36305</td>\n",
       "      <td>0.238380</td>\n",
       "      <td>0.535392</td>\n",
       "      <td>-0.643249</td>\n",
       "      <td>-0.042286</td>\n",
       "      <td>-0.449944</td>\n",
       "      <td>-0.385040</td>\n",
       "      <td>0.795130</td>\n",
       "      <td>-0.919671</td>\n",
       "      <td>-1.017881</td>\n",
       "      <td>1.178860</td>\n",
       "      <td>-0.236010</td>\n",
       "      <td>-0.097908</td>\n",
       "    </tr>\n",
       "    <tr>\n",
       "      <th>2</th>\n",
       "      <td>-0.36305</td>\n",
       "      <td>-1.330954</td>\n",
       "      <td>0.535392</td>\n",
       "      <td>-0.643249</td>\n",
       "      <td>-0.042286</td>\n",
       "      <td>3.589323</td>\n",
       "      <td>2.597133</td>\n",
       "      <td>-1.257656</td>\n",
       "      <td>1.087346</td>\n",
       "      <td>-1.017881</td>\n",
       "      <td>0.062194</td>\n",
       "      <td>-0.236010</td>\n",
       "      <td>-0.997295</td>\n",
       "    </tr>\n",
       "    <tr>\n",
       "      <th>3</th>\n",
       "      <td>-0.36305</td>\n",
       "      <td>-1.330954</td>\n",
       "      <td>0.535392</td>\n",
       "      <td>-0.643249</td>\n",
       "      <td>1.150779</td>\n",
       "      <td>-0.449944</td>\n",
       "      <td>-0.385040</td>\n",
       "      <td>0.795130</td>\n",
       "      <td>1.087346</td>\n",
       "      <td>0.982433</td>\n",
       "      <td>-1.054472</td>\n",
       "      <td>-1.238419</td>\n",
       "      <td>-0.997295</td>\n",
       "    </tr>\n",
       "    <tr>\n",
       "      <th>4</th>\n",
       "      <td>-0.36305</td>\n",
       "      <td>-0.546287</td>\n",
       "      <td>0.535392</td>\n",
       "      <td>-0.643249</td>\n",
       "      <td>-0.042286</td>\n",
       "      <td>-0.449944</td>\n",
       "      <td>-0.385040</td>\n",
       "      <td>0.795130</td>\n",
       "      <td>1.087346</td>\n",
       "      <td>-1.017881</td>\n",
       "      <td>0.062194</td>\n",
       "      <td>-0.236010</td>\n",
       "      <td>-0.997295</td>\n",
       "    </tr>\n",
       "  </tbody>\n",
       "</table>\n",
       "</div>"
      ],
      "text/plain": [
       "    school       sex       age   address  traveltime  studytime  failures  \\\n",
       "0 -0.36305  1.023046  0.535392  0.792251   -0.042286  -0.449944  2.597133   \n",
       "1 -0.36305  0.238380  0.535392 -0.643249   -0.042286  -0.449944 -0.385040   \n",
       "2 -0.36305 -1.330954  0.535392 -0.643249   -0.042286   3.589323  2.597133   \n",
       "3 -0.36305 -1.330954  0.535392 -0.643249    1.150779  -0.449944 -0.385040   \n",
       "4 -0.36305 -0.546287  0.535392 -0.643249   -0.042286  -0.449944 -0.385040   \n",
       "\n",
       "   schoolsup    famsup      paid  activities    famrel  freetime  \n",
       "0  -1.257656 -0.919671 -1.017881    0.062194 -0.236010  0.801479  \n",
       "1   0.795130 -0.919671 -1.017881    1.178860 -0.236010 -0.097908  \n",
       "2  -1.257656  1.087346 -1.017881    0.062194 -0.236010 -0.997295  \n",
       "3   0.795130  1.087346  0.982433   -1.054472 -1.238419 -0.997295  \n",
       "4   0.795130  1.087346 -1.017881    0.062194 -0.236010 -0.997295  "
      ]
     },
     "execution_count": 58,
     "metadata": {},
     "output_type": "execute_result"
    }
   ],
   "source": [
    "scaler = StandardScaler()\n",
    "scaler.fit(df.drop('sex', axis=1))\n",
    "scaled_features = pd.DataFrame(scaler.transform(df.drop('sex', axis=1)),columns=df.columns[:-1])\n",
    "scaled_features.head()"
   ]
  },
  {
   "cell_type": "code",
   "execution_count": 59,
   "id": "47cbaad4",
   "metadata": {},
   "outputs": [],
   "source": [
    "x_train, x_test, y_train, y_test = train_test_split(scaled_features, df['sex'], random_state=0)"
   ]
  },
  {
   "cell_type": "code",
   "execution_count": 98,
   "id": "886c6c35",
   "metadata": {},
   "outputs": [],
   "source": [
    "model = Sequential()\n",
    "model.add(Dense(20, input_dim=13, activation='relu'))\n",
    "model.add(Dense(10, activation='relu'))\n",
    "model.add(Dense(1, activation='sigmoid'))\n",
    "model.compile(loss='binary_crossentropy', optimizer='rmsprop', metrics=['accuracy'])\n",
    "model.summary()"
   ]
  },
  {
   "cell_type": "code",
   "execution_count": 100,
   "id": "6fec8003",
   "metadata": {},
   "outputs": [
    {
     "name": "stdout",
     "output_type": "stream",
     "text": [
      "Epoch 1/30\n",
      "10/10 [==============================] - 1s 4ms/step - loss: 0.7011 - accuracy: 0.5405\n",
      "Epoch 2/30\n",
      "10/10 [==============================] - 0s 4ms/step - loss: 0.6832 - accuracy: 0.5574\n",
      "Epoch 3/30\n",
      "10/10 [==============================] - 0s 4ms/step - loss: 0.6729 - accuracy: 0.5709\n",
      "Epoch 4/30\n",
      "10/10 [==============================] - 0s 4ms/step - loss: 0.6648 - accuracy: 0.5878\n",
      "Epoch 5/30\n",
      "10/10 [==============================] - 0s 4ms/step - loss: 0.6585 - accuracy: 0.5811\n",
      "Epoch 6/30\n",
      "10/10 [==============================] - 0s 4ms/step - loss: 0.6512 - accuracy: 0.6014\n",
      "Epoch 7/30\n",
      "10/10 [==============================] - 0s 4ms/step - loss: 0.6453 - accuracy: 0.6284\n",
      "Epoch 8/30\n",
      "10/10 [==============================] - 0s 4ms/step - loss: 0.6394 - accuracy: 0.6486\n",
      "Epoch 9/30\n",
      "10/10 [==============================] - 0s 4ms/step - loss: 0.6339 - accuracy: 0.6689\n",
      "Epoch 10/30\n",
      "10/10 [==============================] - 0s 4ms/step - loss: 0.6286 - accuracy: 0.6655\n",
      "Epoch 11/30\n",
      "10/10 [==============================] - 0s 4ms/step - loss: 0.6231 - accuracy: 0.6757\n",
      "Epoch 12/30\n",
      "10/10 [==============================] - 0s 4ms/step - loss: 0.6179 - accuracy: 0.6723\n",
      "Epoch 13/30\n",
      "10/10 [==============================] - 0s 4ms/step - loss: 0.6133 - accuracy: 0.6858\n",
      "Epoch 14/30\n",
      "10/10 [==============================] - 0s 3ms/step - loss: 0.6091 - accuracy: 0.7027\n",
      "Epoch 15/30\n",
      "10/10 [==============================] - 0s 4ms/step - loss: 0.6049 - accuracy: 0.7095\n",
      "Epoch 16/30\n",
      "10/10 [==============================] - 0s 4ms/step - loss: 0.6008 - accuracy: 0.7162\n",
      "Epoch 17/30\n",
      "10/10 [==============================] - 0s 4ms/step - loss: 0.5969 - accuracy: 0.7095\n",
      "Epoch 18/30\n",
      "10/10 [==============================] - 0s 4ms/step - loss: 0.5924 - accuracy: 0.7264\n",
      "Epoch 19/30\n",
      "10/10 [==============================] - ETA: 0s - loss: 0.5414 - accuracy: 0.84 - 0s 4ms/step - loss: 0.5888 - accuracy: 0.7264\n",
      "Epoch 20/30\n",
      "10/10 [==============================] - 0s 4ms/step - loss: 0.5847 - accuracy: 0.7297\n",
      "Epoch 21/30\n",
      "10/10 [==============================] - 0s 4ms/step - loss: 0.5818 - accuracy: 0.7230\n",
      "Epoch 22/30\n",
      "10/10 [==============================] - ETA: 0s - loss: 0.6168 - accuracy: 0.62 - 0s 4ms/step - loss: 0.5777 - accuracy: 0.7264\n",
      "Epoch 23/30\n",
      "10/10 [==============================] - 0s 4ms/step - loss: 0.5743 - accuracy: 0.7264\n",
      "Epoch 24/30\n",
      "10/10 [==============================] - 0s 4ms/step - loss: 0.5718 - accuracy: 0.7331\n",
      "Epoch 25/30\n",
      "10/10 [==============================] - 0s 3ms/step - loss: 0.5683 - accuracy: 0.7399\n",
      "Epoch 26/30\n",
      "10/10 [==============================] - 0s 3ms/step - loss: 0.5652 - accuracy: 0.7297\n",
      "Epoch 27/30\n",
      "10/10 [==============================] - 0s 4ms/step - loss: 0.5630 - accuracy: 0.7365\n",
      "Epoch 28/30\n",
      "10/10 [==============================] - 0s 3ms/step - loss: 0.5592 - accuracy: 0.7331\n",
      "Epoch 29/30\n",
      "10/10 [==============================] - 0s 3ms/step - loss: 0.5566 - accuracy: 0.7297\n",
      "Epoch 30/30\n",
      "10/10 [==============================] - 0s 4ms/step - loss: 0.5540 - accuracy: 0.7365\n"
     ]
    },
    {
     "data": {
      "text/plain": [
       "<keras.callbacks.History at 0x1bf719a81c0>"
      ]
     },
     "execution_count": 100,
     "metadata": {},
     "output_type": "execute_result"
    }
   ],
   "source": [
    "model.fit(x_train, y_train, epochs=30)"
   ]
  },
  {
   "cell_type": "code",
   "execution_count": 101,
   "id": "30d487e6",
   "metadata": {},
   "outputs": [
    {
     "name": "stdout",
     "output_type": "stream",
     "text": [
      "[[42 15]\n",
      " [13 29]]\n",
      "              precision    recall  f1-score   support\n",
      "\n",
      "           0       0.76      0.74      0.75        57\n",
      "           1       0.66      0.69      0.67        42\n",
      "\n",
      "    accuracy                           0.72        99\n",
      "   macro avg       0.71      0.71      0.71        99\n",
      "weighted avg       0.72      0.72      0.72        99\n",
      "\n"
     ]
    }
   ],
   "source": [
    "print(confusion_matrix(Y_test, Y_pred))\n",
    "print(classification_report(Y_test, Y_pred))"
   ]
  },
  {
   "cell_type": "code",
   "execution_count": 102,
   "id": "d988f664",
   "metadata": {},
   "outputs": [
    {
     "name": "stdout",
     "output_type": "stream",
     "text": [
      "Test score: 0.5512152910232544\n",
      "Test accuracy: 0.7171717286109924\n"
     ]
    }
   ],
   "source": [
    "score = model.evaluate(x_test, y_test, verbose=0) \n",
    "print('Test score:', score[0]) \n",
    "print('Test accuracy:', score[1])"
   ]
  },
  {
   "cell_type": "code",
   "execution_count": null,
   "id": "7f830520",
   "metadata": {},
   "outputs": [],
   "source": []
  },
  {
   "cell_type": "code",
   "execution_count": 71,
   "id": "7b2682a9",
   "metadata": {},
   "outputs": [],
   "source": [
    "import tensorflow as tf\n",
    "from tensorflow import keras\n",
    "from tensorflow.keras import layers\n",
    "from tensorflow.keras.datasets import cifar100\n",
    "import matplotlib.pyplot as plt"
   ]
  },
  {
   "cell_type": "code",
   "execution_count": 72,
   "id": "cbacca6a",
   "metadata": {},
   "outputs": [
    {
     "name": "stdout",
     "output_type": "stream",
     "text": [
      "Downloading data from https://www.cs.toronto.edu/~kriz/cifar-100-python.tar.gz\n",
      "169009152/169001437 [==============================] - 120s 1us/step\n",
      "169017344/169001437 [==============================] - 120s 1us/step\n"
     ]
    }
   ],
   "source": [
    "(train_features, train_labels), (test_features, test_labels) = cifar100.load_data()"
   ]
  },
  {
   "cell_type": "code",
   "execution_count": 73,
   "id": "0b3423ee",
   "metadata": {},
   "outputs": [
    {
     "name": "stdout",
     "output_type": "stream",
     "text": [
      "(50000, 32, 32, 3)\n",
      "(10000, 32, 32, 3)\n"
     ]
    }
   ],
   "source": [
    "print(train_features.shape)\n",
    "print(test_features.shape)"
   ]
  },
  {
   "cell_type": "code",
   "execution_count": 74,
   "id": "92fa506a",
   "metadata": {},
   "outputs": [],
   "source": [
    "train_features = train_features.astype('float32')/255\n",
    "test_features = test_features.astype('float32')/255\n",
    "num_classes = 100\n",
    "train_labels = keras.utils.to_categorical(train_labels, num_classes)\n",
    "test_labels = keras.utils.to_categorical(test_labels, num_classes)"
   ]
  },
  {
   "cell_type": "code",
   "execution_count": 76,
   "id": "2895d522",
   "metadata": {},
   "outputs": [
    {
     "data": {
      "image/png": "[encoded data removed]",
      "text/plain": [
       "<Figure size 1440x1440 with 5 Axes>"
      ]
     },
     "metadata": {
      "needs_background": "light"
     },
     "output_type": "display_data"
    }
   ],
   "source": [
    "plt.figure(figsize=(20, 20))\n",
    "for i in range(0, 5):\n",
    "    \n",
    "    ax = plt.subplot(2, 5, i + 1)\n",
    "    plt.imshow(train_features[i])\n",
    "    plt.gray()\n",
    "    ax.get_xaxis().set_visible(False)\n",
    "    ax.get_yaxis().set_visible(False)\n",
    "\n",
    "plt.show()"
   ]
  },
  {
   "cell_type": "code",
   "execution_count": 81,
   "id": "35e05939",
   "metadata": {
    "scrolled": true
   },
   "outputs": [
    {
     "name": "stdout",
     "output_type": "stream",
     "text": [
      "Model: \"sequential_16\"\n",
      "_________________________________________________________________\n",
      " Layer (type)                Output Shape              Param #   \n",
      "=================================================================\n",
      " conv2d_41 (Conv2D)          (None, 32, 32, 32)        896       \n",
      "                                                                 \n",
      " leaky_re_lu_22 (LeakyReLU)  (None, 32, 32, 32)        0         \n",
      "                                                                 \n",
      " max_pooling2d_41 (MaxPoolin  (None, 16, 16, 32)       0         \n",
      " g2D)                                                            \n",
      "                                                                 \n",
      " conv2d_42 (Conv2D)          (None, 16, 16, 64)        18496     \n",
      "                                                                 \n",
      " leaky_re_lu_23 (LeakyReLU)  (None, 16, 16, 64)        0         \n",
      "                                                                 \n",
      " max_pooling2d_42 (MaxPoolin  (None, 8, 8, 64)         0         \n",
      " g2D)                                                            \n",
      "                                                                 \n",
      " conv2d_43 (Conv2D)          (None, 8, 8, 128)         73856     \n",
      "                                                                 \n",
      " leaky_re_lu_24 (LeakyReLU)  (None, 8, 8, 128)         0         \n",
      "                                                                 \n",
      " max_pooling2d_43 (MaxPoolin  (None, 4, 4, 128)        0         \n",
      " g2D)                                                            \n",
      "                                                                 \n",
      " conv2d_44 (Conv2D)          (None, 4, 4, 128)         147584    \n",
      "                                                                 \n",
      " leaky_re_lu_25 (LeakyReLU)  (None, 4, 4, 128)         0         \n",
      "                                                                 \n",
      " max_pooling2d_44 (MaxPoolin  (None, 2, 2, 128)        0         \n",
      " g2D)                                                            \n",
      "                                                                 \n",
      " flatten_16 (Flatten)        (None, 512)               0         \n",
      "                                                                 \n",
      " dense_37 (Dense)            (None, 512)               262656    \n",
      "                                                                 \n",
      " leaky_re_lu_26 (LeakyReLU)  (None, 512)               0         \n",
      "                                                                 \n",
      " dense_38 (Dense)            (None, 100)               51300     \n",
      "                                                                 \n",
      "=================================================================\n",
      "Total params: 554,788\n",
      "Trainable params: 554,788\n",
      "Non-trainable params: 0\n",
      "_________________________________________________________________\n"
     ]
    }
   ],
   "source": [
    "alpha = 0.02\n",
    "\n",
    "model = keras.Sequential()\n",
    "\n",
    "model.add(layers.Conv2D(filters=32, kernel_size=(3, 3), padding=\"same\", input_shape=(train_features.shape[1:])))\n",
    "model.add(layers.LeakyReLU(alpha=alpha))\n",
    "model.add(layers.MaxPooling2D(pool_size=(2, 2), padding='same'))\n",
    "\n",
    "model.add(layers.Conv2D(filters=64, kernel_size=(3, 3), padding=\"same\"))\n",
    "model.add(layers.LeakyReLU(alpha=alpha))\n",
    "model.add(layers.MaxPooling2D(pool_size=(2, 2), padding='same'))\n",
    "\n",
    "model.add(layers.Conv2D(filters=128, kernel_size=(3, 3), padding=\"same\"))\n",
    "model.add(layers.LeakyReLU(alpha=alpha))\n",
    "model.add(layers.MaxPooling2D(pool_size=(2, 2), padding='same'))\n",
    "\n",
    "model.add(layers.Conv2D(filters=128, kernel_size=(3, 3), padding=\"same\"))\n",
    "model.add(layers.LeakyReLU(alpha=alpha))\n",
    "model.add(layers.MaxPooling2D(pool_size=(2, 2), padding='same'))\n",
    "\n",
    "model.add(layers.Flatten())\n",
    "\n",
    "model.add(layers.Dense(512, activation='relu'))\n",
    "model.add(layers.LeakyReLU(alpha=alpha))\n",
    "\n",
    "model.add(layers.Dense(100, activation=\"softmax\"))\n",
    "\n",
    "model.compile(optimizer='adam', loss='categorical_crossentropy', metrics=['accuracy'])\n",
    "\n",
    "model.summary()"
   ]
  },
  {
   "cell_type": "code",
   "execution_count": 84,
   "id": "801a74dd",
   "metadata": {},
   "outputs": [
    {
     "name": "stdout",
     "output_type": "stream",
     "text": [
      "Epoch 1/10\n",
      "313/313 [==============================] - 160s 509ms/step - loss: 2.0393 - accuracy: 0.4583 - val_loss: 2.4781 - val_accuracy: 0.3696\n",
      "Epoch 2/10\n",
      "313/313 [==============================] - 159s 507ms/step - loss: 1.8175 - accuracy: 0.5063 - val_loss: 2.4669 - val_accuracy: 0.3828\n",
      "Epoch 3/10\n",
      "313/313 [==============================] - 157s 500ms/step - loss: 1.5967 - accuracy: 0.5583 - val_loss: 2.5546 - val_accuracy: 0.3848\n",
      "Epoch 4/10\n",
      "313/313 [==============================] - 157s 502ms/step - loss: 1.3874 - accuracy: 0.6110 - val_loss: 2.6202 - val_accuracy: 0.3847\n",
      "Epoch 5/10\n",
      "313/313 [==============================] - 157s 503ms/step - loss: 1.1791 - accuracy: 0.6617 - val_loss: 2.7810 - val_accuracy: 0.3771\n",
      "Epoch 6/10\n",
      "313/313 [==============================] - 157s 500ms/step - loss: 0.9917 - accuracy: 0.7065 - val_loss: 2.9781 - val_accuracy: 0.3818\n",
      "Epoch 7/10\n",
      "313/313 [==============================] - 156s 499ms/step - loss: 0.8109 - accuracy: 0.7601 - val_loss: 3.1670 - val_accuracy: 0.3782\n"
     ]
    }
   ],
   "source": [
    "my_callbacks = [tf.keras.callbacks.EarlyStopping(patience=5)]\n",
    "model_history = model.fit(train_features, train_labels, validation_split=0.2, epochs=10, \n",
    "          batch_size=128, callbacks = my_callbacks)"
   ]
  },
  {
   "cell_type": "code",
   "execution_count": 85,
   "id": "ff4de087",
   "metadata": {},
   "outputs": [
    {
     "data": {
      "text/plain": [
       "<matplotlib.legend.Legend at 0x25e4e317610>"
      ]
     },
     "execution_count": 85,
     "metadata": {},
     "output_type": "execute_result"
    },
    {
     "data": {
      "image/png": "[encoded data removed]",
      "text/plain": [
       "<Figure size 432x288 with 1 Axes>"
      ]
     },
     "metadata": {
      "needs_background": "light"
     },
     "output_type": "display_data"
    }
   ],
   "source": [
    "plt.plot(model_history.history['accuracy'],c='red')\n",
    "plt.plot(model_history.history['val_accuracy'],c='green')\n",
    "plt.title('Accuracy')\n",
    "plt.ylabel('Accuracy')\n",
    "plt.xlabel('Epoch')\n",
    "plt.legend(['train','validation'],loc='lower right')"
   ]
  },
  {
   "cell_type": "code",
   "execution_count": null,
   "id": "f0f91eea",
   "metadata": {},
   "outputs": [],
   "source": []
  },
  {
   "cell_type": "code",
   "execution_count": 26,
   "id": "085fbeea",
   "metadata": {},
   "outputs": [],
   "source": [
    "import tensorflow as tf\n",
    "from tensorflow import keras\n",
    "from tensorflow.keras import layers\n",
    "import numpy as np\n",
    "import matplotlib.pyplot as plt"
   ]
  },
  {
   "cell_type": "code",
   "execution_count": 30,
   "id": "2acb3e62",
   "metadata": {},
   "outputs": [
    {
     "data": {
      "text/plain": [
       "[<matplotlib.lines.Line2D at 0x23e472939d0>]"
      ]
     },
     "execution_count": 30,
     "metadata": {},
     "output_type": "execute_result"
    },
    {
     "data": {
      "image/png": "[encoded data removed]",
      "text/plain": [
       "<Figure size 432x288 with 1 Axes>"
      ]
     },
     "metadata": {
      "needs_background": "light"
     },
     "output_type": "display_data"
    }
   ],
   "source": [
    "time_series_length = 1000\n",
    "t = np.linspace(0, 55, time_series_length)\n",
    "ts = t * np.cos(t) / 5 + 4 * np.cos(t*4) + 0.4 * np.random.standard_normal(size=time_series_length)\n",
    "ts_norm = (ts - np.mean(ts)) / np.std(ts)\n",
    "plt.plot(ts_norm)"
   ]
  },
  {
   "cell_type": "code",
   "execution_count": 32,
   "id": "b398dd4a",
   "metadata": {},
   "outputs": [],
   "source": [
    "train_size = int(len(ts) * 0.85)\n",
    "test_size = len(ts) - train_size\n",
    "train, test = ts_norm[0:train_size], ts_norm[train_size:len(ts)]"
   ]
  },
  {
   "cell_type": "code",
   "execution_count": 33,
   "id": "b455d312",
   "metadata": {},
   "outputs": [],
   "source": [
    "def create_dataset(dataset, time_steps=1):\n",
    "    x, y = [], []\n",
    "    for i in range(len(dataset)-time_steps-1):\n",
    "        a = dataset[i:(i+time_steps)]\n",
    "        x.append(a)\n",
    "        y.append(dataset[i+time_steps])\n",
    "    return np.array(x), np.array(y)"
   ]
  },
  {
   "cell_type": "code",
   "execution_count": 34,
   "id": "45bfec34",
   "metadata": {},
   "outputs": [],
   "source": [
    "n_time_steps = 15\n",
    "n_inputs = 1\n",
    "\n",
    "x_train, y_train = create_dataset(train, n_time_steps)\n",
    "x_test, y_test = create_dataset(test, n_time_steps)\n",
    "\n",
    "x_train = np.reshape(x_train, (x_train.shape[0], n_time_steps, n_inputs))\n",
    "x_test = np.reshape(x_test, (x_test.shape[0], n_time_steps, n_inputs))"
   ]
  },
  {
   "cell_type": "code",
   "execution_count": 36,
   "id": "6675afdf",
   "metadata": {},
   "outputs": [
    {
     "name": "stdout",
     "output_type": "stream",
     "text": [
      "Model: \"sequential_5\"\n",
      "_________________________________________________________________\n",
      " Layer (type)                Output Shape              Param #   \n",
      "=================================================================\n",
      " lstm_1 (LSTM)               (None, 150)               91200     \n",
      "                                                                 \n",
      " dense_9 (Dense)             (None, 1)                 151       \n",
      "                                                                 \n",
      "=================================================================\n",
      "Total params: 91,351\n",
      "Trainable params: 91,351\n",
      "Non-trainable params: 0\n",
      "_________________________________________________________________\n"
     ]
    }
   ],
   "source": [
    "model = Sequential()\n",
    "model.add(LSTM(150, input_shape=(n_time_steps, n_inputs), return_sequences=False))\n",
    "model.add(Dense(1))\n",
    "model.compile(loss='mse', optimizer='adam')\n",
    "model.summary()"
   ]
  },
  {
   "cell_type": "code",
   "execution_count": 37,
   "id": "7966b7cc",
   "metadata": {},
   "outputs": [
    {
     "name": "stdout",
     "output_type": "stream",
     "text": [
      "Epoch 1/5\n",
      "27/27 - 4s - loss: 0.3451 - 4s/epoch - 142ms/step\n",
      "Epoch 2/5\n",
      "27/27 - 1s - loss: 0.0763 - 697ms/epoch - 26ms/step\n",
      "Epoch 3/5\n",
      "27/27 - 1s - loss: 0.0254 - 720ms/epoch - 27ms/step\n",
      "Epoch 4/5\n",
      "27/27 - 1s - loss: 0.0223 - 728ms/epoch - 27ms/step\n",
      "Epoch 5/5\n",
      "27/27 - 1s - loss: 0.0204 - 691ms/epoch - 26ms/step\n"
     ]
    },
    {
     "data": {
      "text/plain": [
       "<keras.callbacks.History at 0x23e36976a30>"
      ]
     },
     "execution_count": 37,
     "metadata": {},
     "output_type": "execute_result"
    }
   ],
   "source": [
    "model.fit(x_train, y_train, epochs=5, batch_size=32, verbose=2)"
   ]
  },
  {
   "cell_type": "code",
   "execution_count": 38,
   "id": "61658296",
   "metadata": {},
   "outputs": [
    {
     "data": {
      "text/plain": [
       "<matplotlib.legend.Legend at 0x23e36dae0a0>"
      ]
     },
     "execution_count": 38,
     "metadata": {},
     "output_type": "execute_result"
    },
    {
     "data": {
      "image/png": "[encoded data removed]",
      "text/plain": [
       "<Figure size 432x288 with 1 Axes>"
      ]
     },
     "metadata": {
      "needs_background": "light"
     },
     "output_type": "display_data"
    }
   ],
   "source": [
    "y_pred = model.predict(x_test)\n",
    "plt.plot(y_test, 'r', label = 'true')\n",
    "plt.plot(y_pred, 'b', label = 'predicted')\n",
    "plt.legend()"
   ]
  },
  {
   "cell_type": "code",
   "execution_count": null,
   "id": "69126ebb",
   "metadata": {},
   "outputs": [],
   "source": []
  }
 ],
 "metadata": {
  "kernelspec": {
   "display_name": "Python 3 (ipykernel)",
   "language": "python",
   "name": "python3"
  },
  "language_info": {
   "codemirror_mode": {
    "name": "ipython",
    "version": 3
   },
   "file_extension": ".py",
   "mimetype": "text/x-python",
   "name": "python",
   "nbconvert_exporter": "python",
   "pygments_lexer": "ipython3",
   "version": "3.9.0"
  }
 },
 "nbformat": 4,
 "nbformat_minor": 5
}
